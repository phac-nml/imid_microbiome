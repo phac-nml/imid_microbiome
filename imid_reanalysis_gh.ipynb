{
 "cells": [
  {
   "cell_type": "code",
   "execution_count": null,
   "metadata": {},
   "outputs": [],
   "source": [
    "sh sbatch_make_contigs.sh ../fastqdir_20dec2017/ oligos"
   ]
  },
  {
   "cell_type": "code",
   "execution_count": null,
   "metadata": {},
   "outputs": [],
   "source": [
    "for i in `ls analysis/*.trim.contigs.fasta`;do f=`echo $i|cut -d \"/\" -f2`; echo -n \"$f-\";done>contigs_fasta_list_20dec2017.txt"
   ]
  },
  {
   "cell_type": "code",
   "execution_count": null,
   "metadata": {},
   "outputs": [],
   "source": [
    "sbatch -D $PWD --export=ALL -c 1 --mem 50G -p high --wrap=\"sh merge_fasta.sh\""
   ]
  },
  {
   "cell_type": "code",
   "execution_count": null,
   "metadata": {},
   "outputs": [],
   "source": [
    "for i in `ls analysis/*.trim.contigs.fasta`;do f=`echo $i|cut -d \"/\" -f2|cut -d \"_\" -f1`;echo -n \"$f-\" ;done>groups_list20dec2017.txt"
   ]
  },
  {
   "cell_type": "code",
   "execution_count": null,
   "metadata": {},
   "outputs": [],
   "source": [
    "sbatch -D $PWD --export=ALL -c 32 --mem 100G -p high --wrap=\"sh groups_20dec2017.sh\""
   ]
  },
  {
   "cell_type": "code",
   "execution_count": null,
   "metadata": {},
   "outputs": [],
   "source": [
    "ln -s /Warehouse/Temporary/mothur_tutorial/silva.nr_v128.align ."
   ]
  },
  {
   "cell_type": "code",
   "execution_count": null,
   "metadata": {},
   "outputs": [],
   "source": [
    "ln -s /Warehouse/Temporary/mothur_tutorial/silva.nr_v128.tax ."
   ]
  },
  {
   "cell_type": "code",
   "execution_count": null,
   "metadata": {},
   "outputs": [],
   "source": [
    "ln -s /Warehouse/Temporary/mothur_tutorial/trainset16_022016.rdp.fasta ."
   ]
  },
  {
   "cell_type": "code",
   "execution_count": null,
   "metadata": {},
   "outputs": [],
   "source": [
    "ln -s /Warehouse/Temporary/mothur_tutorial/trainset16_022016.rdp.tax ."
   ]
  },
  {
   "cell_type": "code",
   "execution_count": null,
   "metadata": {},
   "outputs": [],
   "source": [
    "sbatch -D $PWD --export=ALL -c 32 --mem 500G -p high --wrap=\"sh analysis_20dec2017.sh\""
   ]
  },
  {
   "cell_type": "code",
   "execution_count": null,
   "metadata": {},
   "outputs": [],
   "source": [
    "sbatch -D $PWD --export=ALL -c 1 --mem 50G -p high --wrap=\"sh summary.single.sh\""
   ]
  }
 ],
 "metadata": {
  "kernelspec": {
   "display_name": "Bash",
   "language": "bash",
   "name": "bash"
  },
  "language_info": {
   "codemirror_mode": "shell",
   "file_extension": ".sh",
   "mimetype": "text/x-sh",
   "name": "bash"
  }
 },
 "nbformat": 4,
 "nbformat_minor": 2
}
